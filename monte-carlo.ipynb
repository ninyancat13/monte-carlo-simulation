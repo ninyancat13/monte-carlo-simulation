{
 "cells": [
  {
   "cell_type": "markdown",
   "metadata": {},
   "source": [
    "# Monte Carlo Simulation"
   ]
  },
  {
   "cell_type": "code",
   "execution_count": 15,
   "metadata": {},
   "outputs": [],
   "source": [
    "import numpy as np\n",
    "import scipy as sp\n",
    "import scipy.stats as sps\n",
    "import matplotlib.pyplot as plt\n",
    "import matplotlib.animation as anima"
   ]
  },
  {
   "cell_type": "code",
   "execution_count": 16,
   "metadata": {},
   "outputs": [],
   "source": [
    "%matplotlib inline\n",
    "\n",
    "plt.rcParams['figure.figsize'] = [12,9]\n",
    "plt.rcParams['animation.html'] = 'html5'"
   ]
  },
  {
   "cell_type": "markdown",
   "metadata": {},
   "source": [
    "**NB** The *html5* relies on [ffmpeg](https://ffmpeg.org) to convert between different media file formats. "
   ]
  },
  {
   "cell_type": "markdown",
   "metadata": {},
   "source": [
    "<div style=\"background-color:rgb(255,200,200)\">\n",
    "    <b>Task 1:</b> Write a routine to simulate \n",
    "    $$ y_i = \\beta_0 + \\sum^k_{j=1} \\beta_1 x_{ji} + u_i, \\qquad i = 1,...,T $$\n",
    "    for any given coefficients $\\beta_0$ and $\\beta_j$, $j=1,...,k$. You may also wish to allow different distributional assumption for $u_i$ and $x_i$. \n",
    "</div> "
   ]
  },
  {
   "cell_type": "code",
   "execution_count": 17,
   "metadata": {},
   "outputs": [],
   "source": [
    "def simulate(p, period=1000, dist='norm', dp=1):\n",
    "    \"\"\"\n",
    "    simualte a simple regression model with specific distributional assumption.\n",
    "    Inputs:\n",
    "        p: (k,) numpy array containing the parameter vector. \n",
    "        period: int. The number of observations to simualte. \n",
    "        dist: 'norm' or 't'. Distribution of the error terms.\n",
    "        dp: positive scalar. In the case of dist=='norm', it is the variance of the error term. In the case of dist=='t', it is the degree of freedom. \n",
    "    Outputs:\n",
    "        y: (period,) numpy array. Simulated dependent variable. \n",
    "        X: (period, 2) numpy array. Simulated explanatory variables. \n",
    "    \"\"\"\n",
    "    \n",
    "    k = len(p)-1\n",
    "    if dist=='norm':\n",
    "        e = sps.norm.rvs(scale=np.power(dp,0.5), size=period)\n",
    "    elif dist=='t':\n",
    "        e = sps.t.rvs(df=dp, size=period)\n",
    "    else:\n",
    "        print('This distribution has not been implemented yet')\n",
    "        exit()\n",
    "        \n",
    "    x = sps.norm.rvs(size=(period,k), scale=0.05)\n",
    "    X = np.c_[np.ones(period), x]\n",
    "    y = np.dot(X, p) + e\n",
    "    return X, y "
   ]
  },
  {
   "cell_type": "markdown",
   "metadata": {},
   "source": [
    "<div style=\"background-color:rgb(255,200,200)\">\n",
    "    <p><b>Task 2</b> Write a rountine to compute the OLS estimator as well as the associated t-statistics given the data matrices of the dependent and explanatory variables. Recall the regression model \n",
    "    $$ \\mathbf{y} = \\mathbf{X}\\pmb{\\beta} + \\mathbf{u} $$\n",
    "    where $\\mathbf{y}$ and $\\mathbf{X}$ are $T\\times 1$ and $T\\times k$ matrices containing the data for the dependent variables and the $k$\n",
    "        explanatory variables, respectively. $\\pmb{\\beta}$ is the $k\\times 1$ vector of coefficients and $\\mathbf{u}$ is the $T\\times 1$ vector of residuals. </p>\n",
    "    <p> The OLS estimator is defined to be \n",
    "        $$ \\hat{\\pmb{\\beta}}_T = \\left ( \\mathbf{X}'\\mathbf{X} \\right )^{-1} \\mathbf{X}'\\mathbf{y}.$$\n",
    "        and the variance-covariance matrix of the estimator is given by \n",
    "        $$ Var \\left ( \\hat{\\pmb{\\beta}}_T \\right ) = \\sigma^2_u \\left ( \\mathbf{X}'\\mathbf{X} \\right )'. $$ \n",
    "    </p> \n",
    "    <p> The t-statistics is given by \n",
    "        $$ t \\left ( \\hat{\\beta}_i \\right ) = \\frac{\\hat{\\beta}_i}{\\sqrt{Var(\\hat{\\beta}_i)}}, \\qquad i=1,...,k.$$\n",
    "    </p>\n",
    "    <p> <b>Hints:</b> You may find  <i>numpy.dot()</i>, <i>numpy.diag()</i> and <i>numpy.linalg.inv()</i> useful. </p>\n",
    " </div>"
   ]
  },
  {
   "cell_type": "code",
   "execution_count": 18,
   "metadata": {},
   "outputs": [],
   "source": [
    "def OLS(x,y):\n",
    "    \"\"\"\n",
    "    Compute the OLS estimator. \n",
    "    Inputs:\n",
    "        x: (T,k) numpy array. Containing the data matrix of k explanatory variables with T observations. \n",
    "        y: (T,) numpy array. Data matrix of the dependent variable. \n",
    "    Output:\n",
    "        b: (k,) numpy array. The OLS estiamtes. \n",
    "        tstats: (k,) numpy array. The t-statistics.\n",
    "    \"\"\"\n",
    "\n",
    "    try:\n",
    "        Xinv = np.linalg.inv(np.dot(x.transpose(), x))\n",
    "    except:\n",
    "        print('Singular matrix')\n",
    "        exit()\n",
    "    temp = np.dot(x.transpose(), y)\n",
    "    b = np.dot(Xinv, temp)\n",
    "    e = y-np.dot(x,b)\n",
    "    s = sum(np.power(e,2)) \n",
    "    se = s*np.diag(Xinv)\n",
    "    tstats = b/np.power(se,0.5)\n",
    "    return b,tstats"
   ]
  },
  {
   "cell_type": "markdown",
   "metadata": {},
   "source": [
    "<div style=\"background-color:rgb(255,200,200)\">\n",
    "    <p> <b>Task 3:</b> Write a function that implement the following procedure:\n",
    "        <ol>\n",
    "            <li>Simulate the dependent and independent variables using the function from Task 1 with a given set of sample size $T$.</li> \n",
    "            <li>Compute the OLS estimates (and the associated t-statistics) based on the previous step using the function from Task 2.</li> \n",
    "            <li>Record the OLS estimates (and the associated t-statistics) into numpy arrays. </li>\n",
    "            <li>Go back to step 1 and repeat until it reaches the desired number of replications. </li>\n",
    "        </ol>\n",
    "    </p>\n",
    "</div>\n",
    "     "
   ]
  },
  {
   "cell_type": "code",
   "execution_count": 19,
   "metadata": {},
   "outputs": [],
   "source": [
    "def MC(p=[1,0.5], period=100, replication=100000, dist='norm', dp=1):\n",
    "    \"\"\"\n",
    "    Monte Carlo simulaiton of either OLS estimator. \n",
    "    Inputs:\n",
    "        p: (2,) numpy array containing the parameter vector. \n",
    "        period: int. The number of observations to simualte. \n",
    "        dist: 'norm' or 't'. Distribution of the error terms.\n",
    "        dp: positive scalar. In the case of dist=='norm', it is the variance of the error term. In the case of dist=='t', it is the degree of freedom. \n",
    "    Outputs:\n",
    "        b: (replication,) numpy array. The OLS estimates. \n",
    "        tstat: (replication,) numpy array. The t-statistics. \n",
    "    \"\"\"\n",
    "\n",
    "    k = len(p)\n",
    "    b = np.zeros((replication,k))\n",
    "    tstat = np.zeros((replication,k))\n",
    "    for i in np.arange(0,replication):\n",
    "        x,y = simulate(p,period=period, dist=dist, dp=dp)\n",
    "        b[i], tstat[i] = OLS(x,y)\n",
    "    return b, tstat"
   ]
  },
  {
   "cell_type": "markdown",
   "metadata": {},
   "source": [
    "<div style=\"background-color:rgb(255,200,200)\">\n",
    "    <p><b>Task 4:</b> By using the function written from Task 3. Examine the following:\n",
    "        <ul>\n",
    "            <li>How does the estimator behave as the sample size $T$ increases? </li>\n",
    "            <li>How do the variances of the error term and the explanatory variables affect the behaviour of the estimator? </li>\n",
    "            <li>How do the t-statistics behave as the sample size increases? </li> \n",
    "        <ul> \n",
    "            </p> \n",
    "            <p> How would you present these results visually? </p> \n",
    "            <p><b>Hints:</b> You may wish to explore the following functions, in addition to the plotting functions you already know: \n",
    "                <ul> \n",
    "                    <li>matplotlib.pyplot.contour</li> \n",
    "                    <li>matplotlib.pyplot.hist2d</li>\n",
    "                    <li> matplotlib.animation.FuncAnimation</li> \n",
    "            </ul>\n",
    "            For the animation part, you can find a couple of examples from the notebook of Lecture 1. \n",
    "            </p> \n",
    "</div> \n",
    "                    "
   ]
  },
  {
   "cell_type": "code",
   "execution_count": 20,
   "metadata": {},
   "outputs": [
    {
     "data": {
      "text/plain": [
       "([array([    0.,     0.,     0.,     0.,   186., 99814.,     0.,     0.,\n",
       "             0.,     0.]),\n",
       "  array([1.0000e+01, 2.0000e+02, 2.6920e+03, 1.5193e+04, 3.5841e+04,\n",
       "         3.2591e+04, 1.1701e+04, 1.6600e+03, 1.0700e+02, 5.0000e+00])],\n",
       " array([-9.47627108, -7.43915372, -5.40203636, -3.364919  , -1.32780164,\n",
       "         0.70931572,  2.74643308,  4.78355044,  6.8206678 ,  8.85778516,\n",
       "        10.89490252]),\n",
       " <a list of 2 Lists of Patches objects>)"
      ]
     },
     "execution_count": 20,
     "metadata": {},
     "output_type": "execute_result"
    },
    {
     "data": {
      "image/png": "[encoded data removed]",
      "text/plain": [
       "<Figure size 864x648 with 1 Axes>"
      ]
     },
     "metadata": {
      "needs_background": "light"
     },
     "output_type": "display_data"
    }
   ],
   "source": [
    "plot1 = MC()[0]\n",
    "\n",
    "plt.hist(plot1)"
   ]
  },
  {
   "cell_type": "code",
   "execution_count": 28,
   "metadata": {},
   "outputs": [
    {
     "data": {
      "text/plain": [
       "([array([0.0000e+00, 0.0000e+00, 0.0000e+00, 0.0000e+00, 2.9000e+01,\n",
       "         6.8670e+03, 5.3013e+04, 3.6287e+04, 3.7060e+03, 9.8000e+01]),\n",
       "  array([1.2360e+03, 4.0205e+04, 5.5164e+04, 3.3820e+03, 1.3000e+01,\n",
       "         0.0000e+00, 0.0000e+00, 0.0000e+00, 0.0000e+00, 0.0000e+00])],\n",
       " array([-0.41137466, -0.20411132,  0.00315202,  0.21041536,  0.41767871,\n",
       "         0.62494205,  0.83220539,  1.03946873,  1.24673207,  1.45399542,\n",
       "         1.66125876]),\n",
       " <a list of 2 Lists of Patches objects>)"
      ]
     },
     "execution_count": 28,
     "metadata": {},
     "output_type": "execute_result"
    },
    {
     "data": {
      "image/png": "[encoded data removed]",
      "text/plain": [
       "<Figure size 864x648 with 1 Axes>"
      ]
     },
     "metadata": {
      "needs_background": "light"
     },
     "output_type": "display_data"
    }
   ],
   "source": [
    "plot2 = MC()[1]\n",
    "\n",
    "plt.hist(plot2)"
   ]
  },
  {
   "cell_type": "code",
   "execution_count": 21,
   "metadata": {},
   "outputs": [
    {
     "data": {
      "text/plain": [
       "array([[ 1.29809519, -0.65564924],\n",
       "       [ 0.81552282, -0.95227346],\n",
       "       [ 0.95894884,  2.47326604],\n",
       "       ...,\n",
       "       [ 1.01092482,  2.33073381],\n",
       "       [ 1.0407381 , -0.21588036],\n",
       "       [ 0.96476828,  5.36545286]])"
      ]
     },
     "execution_count": 21,
     "metadata": {},
     "output_type": "execute_result"
    }
   ],
   "source": [
    "plot1"
   ]
  },
  {
   "cell_type": "code",
   "execution_count": 22,
   "metadata": {},
   "outputs": [
    {
     "data": {
      "text/plain": [
       "-0.6556492408925567"
      ]
     },
     "execution_count": 22,
     "metadata": {},
     "output_type": "execute_result"
    }
   ],
   "source": [
    "plot1[0,1]"
   ]
  },
  {
   "cell_type": "code",
   "execution_count": 25,
   "metadata": {},
   "outputs": [],
   "source": [
    "a = []\n",
    "b = []\n",
    "\n",
    "for i in range(0, len(plot1)):\n",
    "    a.append(plot2[i,0])\n",
    "    b.append(plot2[i,1])"
   ]
  },
  {
   "cell_type": "code",
   "execution_count": 26,
   "metadata": {},
   "outputs": [
    {
     "data": {
      "text/plain": [
       "(array([[0., 0., 0., ..., 0., 0., 0.],\n",
       "        [0., 0., 0., ..., 0., 0., 0.],\n",
       "        [0., 0., 0., ..., 0., 0., 0.],\n",
       "        ...,\n",
       "        [0., 0., 0., ..., 0., 0., 0.],\n",
       "        [0., 0., 0., ..., 0., 0., 0.],\n",
       "        [0., 0., 0., ..., 0., 0., 0.]]),\n",
       " array([0.52168586, 0.54492966, 0.56817347, 0.59141727, 0.61466107,\n",
       "        0.63790487, 0.66114867, 0.68439248, 0.70763628, 0.73088008,\n",
       "        0.75412388, 0.77736768, 0.80061149, 0.82385529, 0.84709909,\n",
       "        0.87034289, 0.89358669, 0.91683049, 0.9400743 , 0.9633181 ,\n",
       "        0.9865619 , 1.0098057 , 1.0330495 , 1.05629331, 1.07953711,\n",
       "        1.10278091, 1.12602471, 1.14926851, 1.17251232, 1.19575612,\n",
       "        1.21899992, 1.24224372, 1.26548752, 1.28873133, 1.31197513,\n",
       "        1.33521893, 1.35846273, 1.38170653, 1.40495034, 1.42819414,\n",
       "        1.45143794, 1.47468174, 1.49792554, 1.52116934, 1.54441315,\n",
       "        1.56765695, 1.59090075, 1.61414455, 1.63738835, 1.66063216,\n",
       "        1.68387596]),\n",
       " array([-0.44344707, -0.4243436 , -0.40524014, -0.38613668, -0.36703322,\n",
       "        -0.34792976, -0.32882629, -0.30972283, -0.29061937, -0.27151591,\n",
       "        -0.25241244, -0.23330898, -0.21420552, -0.19510206, -0.1759986 ,\n",
       "        -0.15689513, -0.13779167, -0.11868821, -0.09958475, -0.08048129,\n",
       "        -0.06137782, -0.04227436, -0.0231709 , -0.00406744,  0.01503603,\n",
       "         0.03413949,  0.05324295,  0.07234641,  0.09144987,  0.11055334,\n",
       "         0.1296568 ,  0.14876026,  0.16786372,  0.18696719,  0.20607065,\n",
       "         0.22517411,  0.24427757,  0.26338103,  0.2824845 ,  0.30158796,\n",
       "         0.32069142,  0.33979488,  0.35889835,  0.37800181,  0.39710527,\n",
       "         0.41620873,  0.43531219,  0.45441566,  0.47351912,  0.49262258,\n",
       "         0.51172604]),\n",
       " <matplotlib.collections.QuadMesh at 0x22e45d1e518>)"
      ]
     },
     "execution_count": 26,
     "metadata": {},
     "output_type": "execute_result"
    },
    {
     "data": {
      "image/png": "[encoded data removed]",
      "text/plain": [
       "<Figure size 864x648 with 1 Axes>"
      ]
     },
     "metadata": {
      "needs_background": "light"
     },
     "output_type": "display_data"
    }
   ],
   "source": [
    "plt.hist2d(a, b, bins=50)"
   ]
  },
  {
   "cell_type": "code",
   "execution_count": null,
   "metadata": {},
   "outputs": [],
   "source": []
  }
 ],
 "metadata": {
  "kernelspec": {
   "display_name": "Python 3",
   "language": "python",
   "name": "python3"
  },
  "language_info": {
   "codemirror_mode": {
    "name": "ipython",
    "version": 3
   },
   "file_extension": ".py",
   "mimetype": "text/x-python",
   "name": "python",
   "nbconvert_exporter": "python",
   "pygments_lexer": "ipython3",
   "version": "3.7.2"
  }
 },
 "nbformat": 4,
 "nbformat_minor": 2
}
